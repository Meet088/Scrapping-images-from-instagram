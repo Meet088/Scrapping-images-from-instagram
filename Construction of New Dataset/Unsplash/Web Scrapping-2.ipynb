{
 "cells": [
  {
   "cell_type": "code",
   "execution_count": 2,
   "metadata": {},
   "outputs": [],
   "source": [
    "# Import required libraries\n",
    "from selenium import webdriver\n",
    "from selenium.webdriver.common.keys import Keys\n",
    "from time import sleep\n",
    "from parsel import Selector\n",
    "import urllib\n",
    "import urllib.request\n",
    "import json"
   ]
  },
  {
   "cell_type": "code",
   "execution_count": 2,
   "metadata": {},
   "outputs": [],
   "source": [
    "# To ignore warnings\n",
    "import warnings\n",
    "warnings.filterwarnings(\"ignore\")"
   ]
  },
  {
   "cell_type": "code",
   "execution_count": 3,
   "metadata": {},
   "outputs": [],
   "source": [
    "# Providing URL for the website from where the data will be scraped\n",
    "url = \"https://unsplash.com/images/things\""
   ]
  },
  {
   "cell_type": "code",
   "execution_count": 4,
   "metadata": {},
   "outputs": [
    {
     "name": "stderr",
     "output_type": "stream",
     "text": [
      "[WDM] - Current google-chrome version is 86.0.4240\n",
      "[WDM] - Get LATEST driver version for 86.0.4240\n",
      "[WDM] - Get LATEST driver version for 86.0.4240\n",
      "[WDM] - Trying to download new driver from http://chromedriver.storage.googleapis.com/86.0.4240.22/chromedriver_win32.zip\n"
     ]
    },
    {
     "name": "stdout",
     "output_type": "stream",
     "text": [
      " \n"
     ]
    },
    {
     "name": "stderr",
     "output_type": "stream",
     "text": [
      "[WDM] - Driver has been saved in cache [C:\\Users\\rajpu\\.wdm\\drivers\\chromedriver\\win32\\86.0.4240.22]\n"
     ]
    }
   ],
   "source": [
    "# defining driver\n",
    "from webdriver_manager.chrome import ChromeDriverManager\n",
    "driver = webdriver.Chrome(ChromeDriverManager().install())"
   ]
  },
  {
   "cell_type": "code",
   "execution_count": 5,
   "metadata": {},
   "outputs": [],
   "source": [
    "# Opening the browser with the specific url\n",
    "driver.get(url)\n",
    "sleep(1)"
   ]
  },
  {
   "cell_type": "code",
   "execution_count": 6,
   "metadata": {},
   "outputs": [],
   "source": [
    "# Maximise the window\n",
    "driver.maximize_window()"
   ]
  },
  {
   "cell_type": "code",
   "execution_count": 7,
   "metadata": {},
   "outputs": [],
   "source": [
    "# clicking on an image to open it\n",
    "driver.find_element_by_class_name('nDTlD').click()"
   ]
  },
  {
   "cell_type": "code",
   "execution_count": 8,
   "metadata": {},
   "outputs": [
    {
     "name": "stdout",
     "output_type": "stream",
     "text": [
      "1\n",
      "2\n",
      "3\n",
      "4\n",
      "5\n",
      "6\n",
      "7\n",
      "8\n",
      "9\n",
      "10\n",
      "11\n",
      "12\n",
      "13\n",
      "14\n",
      "15\n",
      "16\n",
      "17\n",
      "18\n",
      "19\n",
      "20\n",
      "21\n",
      "22\n",
      "23\n",
      "24\n",
      "25\n",
      "26\n",
      "27\n",
      "28\n",
      "29\n",
      "30\n",
      "31\n",
      "32\n",
      "33\n",
      "34\n",
      "35\n",
      "36\n",
      "37\n",
      "38\n",
      "39\n",
      "40\n",
      "41\n",
      "42\n",
      "43\n",
      "44\n",
      "45\n",
      "46\n",
      "47\n",
      "48\n",
      "49\n",
      "50\n",
      "51\n",
      "52\n",
      "53\n",
      "54\n",
      "55\n",
      "56\n",
      "57\n",
      "58\n",
      "59\n",
      "60\n",
      "61\n",
      "62\n",
      "63\n",
      "64\n",
      "65\n",
      "66\n",
      "67\n",
      "68\n",
      "69\n",
      "70\n",
      "71\n",
      "72\n",
      "73\n",
      "74\n",
      "75\n",
      "76\n",
      "77\n",
      "78\n",
      "79\n",
      "80\n",
      "81\n",
      "82\n",
      "83\n",
      "84\n",
      "85\n",
      "86\n",
      "87\n",
      "88\n",
      "89\n",
      "90\n",
      "91\n",
      "92\n",
      "93\n",
      "94\n",
      "95\n",
      "96\n",
      "97\n",
      "98\n",
      "99\n",
      "100\n",
      "101\n",
      "102\n",
      "103\n",
      "104\n",
      "105\n",
      "106\n",
      "107\n",
      "108\n",
      "109\n",
      "110\n",
      "111\n",
      "112\n",
      "113\n",
      "114\n",
      "115\n",
      "116\n",
      "117\n",
      "118\n",
      "119\n",
      "120\n",
      "121\n",
      "122\n",
      "123\n",
      "124\n",
      "125\n",
      "126\n",
      "127\n",
      "128\n",
      "129\n",
      "130\n",
      "131\n",
      "132\n",
      "133\n",
      "134\n",
      "135\n",
      "136\n",
      "137\n",
      "138\n",
      "139\n",
      "140\n",
      "141\n",
      "142\n",
      "143\n",
      "144\n",
      "145\n",
      "146\n",
      "147\n",
      "148\n",
      "149\n",
      "150\n",
      "151\n",
      "152\n",
      "153\n",
      "154\n",
      "155\n",
      "156\n",
      "157\n",
      "158\n",
      "159\n",
      "160\n",
      "161\n",
      "162\n",
      "163\n",
      "164\n",
      "165\n",
      "166\n",
      "167\n",
      "168\n",
      "169\n",
      "170\n",
      "171\n",
      "172\n",
      "173\n",
      "174\n",
      "175\n",
      "176\n",
      "177\n",
      "178\n",
      "179\n",
      "180\n",
      "181\n",
      "182\n",
      "183\n",
      "184\n",
      "185\n",
      "186\n",
      "187\n",
      "188\n",
      "189\n",
      "190\n",
      "191\n",
      "192\n",
      "193\n",
      "194\n",
      "195\n",
      "196\n",
      "197\n",
      "198\n",
      "199\n",
      "200\n",
      "201\n",
      "202\n",
      "203\n",
      "204\n",
      "205\n",
      "206\n",
      "207\n",
      "208\n",
      "209\n",
      "210\n"
     ]
    }
   ],
   "source": [
    "# downloading the images with their metadata\n",
    "# Downloading 200 images \n",
    "boolean = True\n",
    "index = 0\n",
    "data = []\n",
    "while(boolean):\n",
    "    img = driver.find_element_by_class_name(\"_1AA_u\")\n",
    "    src  = img.get_attribute('href')\n",
    "    urllib.request.urlretrieve(src,'C:\\\\Users\\\\rajpu\\\\Desktop\\\\AODS Project\\\\images\\\\%s.jpeg'%index) \n",
    "    script = driver.find_element_by_xpath(\"//script[@type='application/ld+json']\")\n",
    "    val = json.loads(script.get_attribute('innerHTML'))\n",
    "    val['id'] = index\n",
    "    data.append(val)\n",
    "    try:\n",
    "        driver.find_element_by_class_name('_3OTjU._3JvN7').click()\n",
    "        index+=1\n",
    "        print(index)\n",
    "    except:\n",
    "        boolean = False\n",
    "        print(\"all images have been collected\")\n",
    "    if index == 210:\n",
    "        boolean = False"
   ]
  },
  {
   "cell_type": "code",
   "execution_count": 9,
   "metadata": {},
   "outputs": [],
   "source": [
    "# Saving the raw json file with data\n",
    "with open('C:\\\\Users\\\\rajpu\\\\Desktop\\\\AODS Project\\\\captions.json', 'w') as json_file:\n",
    "    json.dump(data, json_file)"
   ]
  },
  {
   "cell_type": "code",
   "execution_count": 10,
   "metadata": {},
   "outputs": [],
   "source": [
    "# closing the browser\n",
    "driver.close()"
   ]
  },
  {
   "cell_type": "code",
   "execution_count": 2,
   "metadata": {},
   "outputs": [],
   "source": [
    "import json\n",
    "# opening the saved json file to preprocess it\n",
    "with open('captions.json') as json_file:\n",
    "    data = json.load(json_file)"
   ]
  },
  {
   "cell_type": "code",
   "execution_count": 3,
   "metadata": {},
   "outputs": [],
   "source": [
    "# Saving the data in required format\n",
    "coco = []\n",
    "imgs = []\n",
    "annos = []\n",
    "for (index,item) in enumerate(data):\n",
    "    if(len(imgs)>199):\n",
    "        break\n",
    "    try:\n",
    "        \n",
    "        dict_ = {\n",
    "                \"id\":item[\"id\"],\n",
    "                \"width\":item[\"width\"],\n",
    "                \"height\":item[\"height\"],\n",
    "                \"file_name\":str(item[\"id\"])+\".jpeg\"\n",
    "            }\n",
    "        annotation = {\n",
    "                \"id\":index,\n",
    "                \"image_id\":item[\"id\"],\n",
    "                \"caption\":item[\"caption\"]\n",
    "            }\n",
    "        imgs.append(dict_)\n",
    "        annos.append(annotation)\n",
    "\n",
    "    except: \n",
    "        continue\n",
    "nest = {\n",
    "        \"images\":imgs,\n",
    "        \"annotations\":annos\n",
    "    }\n"
   ]
  },
  {
   "cell_type": "code",
   "execution_count": 30,
   "metadata": {},
   "outputs": [
    {
     "name": "stdout",
     "output_type": "stream",
     "text": [
      "[({'id': 0, 'width': '3209px', 'height': '2407px', 'file_name': '0.jpeg'},), ({'id': 1, 'width': '2973px', 'height': '4451px', 'file_name': '1.jpeg'},), ({'id': 2, 'width': '5184px', 'height': '3456px', 'file_name': '2.jpeg'},), ({'id': 3, 'width': '5472px', 'height': '3648px', 'file_name': '3.jpeg'},), ({'id': 4, 'width': '6000px', 'height': '4000px', 'file_name': '4.jpeg'},), ({'id': 5, 'width': '3216px', 'height': '2136px', 'file_name': '5.jpeg'},), ({'id': 6, 'width': '6016px', 'height': '4016px', 'file_name': '6.jpeg'},), ({'id': 7, 'width': '5952px', 'height': '3968px', 'file_name': '7.jpeg'},), ({'id': 8, 'width': '4773px', 'height': '3182px', 'file_name': '8.jpeg'},), ({'id': 9, 'width': '4240px', 'height': '2832px', 'file_name': '9.jpeg'},), ({'id': 10, 'width': '5362px', 'height': '3575px', 'file_name': '10.jpeg'},), ({'id': 11, 'width': '6000px', 'height': '3916px', 'file_name': '11.jpeg'},), ({'id': 12, 'width': '4288px', 'height': '2848px', 'file_name': '12.jpeg'},), ({'id': 13, 'width': '2492px', 'height': '3696px', 'file_name': '13.jpeg'},), ({'id': 14, 'width': '6000px', 'height': '4000px', 'file_name': '14.jpeg'},), ({'id': 15, 'width': '7952px', 'height': '5304px', 'file_name': '15.jpeg'},), ({'id': 16, 'width': '5577px', 'height': '3712px', 'file_name': '16.jpeg'},), ({'id': 17, 'width': '5499px', 'height': '3659px', 'file_name': '17.jpeg'},), ({'id': 18, 'width': '3456px', 'height': '2304px', 'file_name': '18.jpeg'},), ({'id': 19, 'width': '5184px', 'height': '3456px', 'file_name': '19.jpeg'},), ({'id': 20, 'width': '4864px', 'height': '3648px', 'file_name': '20.jpeg'},), ({'id': 21, 'width': '4000px', 'height': '6016px', 'file_name': '21.jpeg'},), ({'id': 22, 'width': '4370px', 'height': '2909px', 'file_name': '22.jpeg'},), ({'id': 23, 'width': '4000px', 'height': '6000px', 'file_name': '23.jpeg'},), ({'id': 24, 'width': '6000px', 'height': '4000px', 'file_name': '24.jpeg'},), ({'id': 25, 'width': '4608px', 'height': '3456px', 'file_name': '25.jpeg'},), ({'id': 26, 'width': '3888px', 'height': '2592px', 'file_name': '26.jpeg'},), ({'id': 27, 'width': '6032px', 'height': '4014px', 'file_name': '27.jpeg'},), ({'id': 28, 'width': '5680px', 'height': '3898px', 'file_name': '28.jpeg'},), ({'id': 29, 'width': '6016px', 'height': '4000px', 'file_name': '29.jpeg'},), ({'id': 30, 'width': '5312px', 'height': '4000px', 'file_name': '30.jpeg'},), ({'id': 31, 'width': '6000px', 'height': '4000px', 'file_name': '31.jpeg'},), ({'id': 32, 'width': '5704px', 'height': '4000px', 'file_name': '32.jpeg'},), ({'id': 33, 'width': '4490px', 'height': '2993px', 'file_name': '33.jpeg'},), ({'id': 34, 'width': '4000px', 'height': '6000px', 'file_name': '34.jpeg'},), ({'id': 35, 'width': '2532px', 'height': '3798px', 'file_name': '35.jpeg'},), ({'id': 36, 'width': '4891px', 'height': '3261px', 'file_name': '36.jpeg'},), ({'id': 37, 'width': '6016px', 'height': '4000px', 'file_name': '37.jpeg'},), ({'id': 38, 'width': '5822px', 'height': '3741px', 'file_name': '38.jpeg'},), ({'id': 39, 'width': '3426px', 'height': '5139px', 'file_name': '39.jpeg'},), ({'id': 40, 'width': '3108px', 'height': '4662px', 'file_name': '40.jpeg'},), ({'id': 41, 'width': '3024px', 'height': '4032px', 'file_name': '41.jpeg'},), ({'id': 42, 'width': '6000px', 'height': '4000px', 'file_name': '42.jpeg'},), ({'id': 43, 'width': '6000px', 'height': '4000px', 'file_name': '43.jpeg'},), ({'id': 44, 'width': '3206px', 'height': '4824px', 'file_name': '44.jpeg'},), ({'id': 45, 'width': '6000px', 'height': '4000px', 'file_name': '45.jpeg'},), ({'id': 46, 'width': '3936px', 'height': '1844px', 'file_name': '46.jpeg'},), ({'id': 47, 'width': '1987px', 'height': '3000px', 'file_name': '47.jpeg'},), ({'id': 48, 'width': '5931px', 'height': '3954px', 'file_name': '48.jpeg'},), ({'id': 49, 'width': '2832px', 'height': '4240px', 'file_name': '49.jpeg'},), ({'id': 50, 'width': '5328px', 'height': '4016px', 'file_name': '50.jpeg'},), ({'id': 51, 'width': '1778px', 'height': '2768px', 'file_name': '51.jpeg'},), ({'id': 52, 'width': '6030px', 'height': '4020px', 'file_name': '52.jpeg'},), ({'id': 53, 'width': '4024px', 'height': '6048px', 'file_name': '53.jpeg'},), ({'id': 54, 'width': '6000px', 'height': '4000px', 'file_name': '54.jpeg'},), ({'id': 55, 'width': '5472px', 'height': '3648px', 'file_name': '55.jpeg'},), ({'id': 56, 'width': '5556px', 'height': '3816px', 'file_name': '56.jpeg'},), ({'id': 57, 'width': '6720px', 'height': '4480px', 'file_name': '57.jpeg'},), ({'id': 58, 'width': '2268px', 'height': '4032px', 'file_name': '58.jpeg'},), ({'id': 59, 'width': '4741px', 'height': '3140px', 'file_name': '59.jpeg'},), ({'id': 60, 'width': '4951px', 'height': '3433px', 'file_name': '60.jpeg'},), ({'id': 61, 'width': '3744px', 'height': '5616px', 'file_name': '61.jpeg'},), ({'id': 62, 'width': '5638px', 'height': '3753px', 'file_name': '62.jpeg'},), ({'id': 63, 'width': '6000px', 'height': '4000px', 'file_name': '63.jpeg'},), ({'id': 64, 'width': '4032px', 'height': '3024px', 'file_name': '64.jpeg'},), ({'id': 65, 'width': '5652px', 'height': '3180px', 'file_name': '65.jpeg'},), ({'id': 66, 'width': '3648px', 'height': '5472px', 'file_name': '66.jpeg'},), ({'id': 67, 'width': '6000px', 'height': '4000px', 'file_name': '67.jpeg'},), ({'id': 68, 'width': '3957px', 'height': '4948px', 'file_name': '68.jpeg'},), ({'id': 69, 'width': '3705px', 'height': '5557px', 'file_name': '69.jpeg'},), ({'id': 70, 'width': '7360px', 'height': '4912px', 'file_name': '70.jpeg'},), ({'id': 71, 'width': '3357px', 'height': '2098px', 'file_name': '71.jpeg'},), ({'id': 72, 'width': '5184px', 'height': '3888px', 'file_name': '72.jpeg'},), ({'id': 73, 'width': '5030px', 'height': '3713px', 'file_name': '73.jpeg'},), ({'id': 74, 'width': '2624px', 'height': '3929px', 'file_name': '74.jpeg'},), ({'id': 75, 'width': '4896px', 'height': '3264px', 'file_name': '75.jpeg'},), ({'id': 76, 'width': '4928px', 'height': '3264px', 'file_name': '76.jpeg'},), ({'id': 77, 'width': '5472px', 'height': '3648px', 'file_name': '77.jpeg'},), ({'id': 78, 'width': '3096px', 'height': '4128px', 'file_name': '78.jpeg'},), ({'id': 79, 'width': '2976px', 'height': '4464px', 'file_name': '79.jpeg'},), ({'id': 80, 'width': '5616px', 'height': '3744px', 'file_name': '80.jpeg'},), ({'id': 81, 'width': '6016px', 'height': '4000px', 'file_name': '81.jpeg'},), ({'id': 82, 'width': '5402px', 'height': '3601px', 'file_name': '82.jpeg'},), ({'id': 83, 'width': '4592px', 'height': '3448px', 'file_name': '83.jpeg'},), ({'id': 84, 'width': '2624px', 'height': '3936px', 'file_name': '84.jpeg'},), ({'id': 85, 'width': '3400px', 'height': '1916px', 'file_name': '85.jpeg'},), ({'id': 86, 'width': '5472px', 'height': '3648px', 'file_name': '86.jpeg'},), ({'id': 87, 'width': '2466px', 'height': '2742px', 'file_name': '87.jpeg'},), ({'id': 88, 'width': '4000px', 'height': '6000px', 'file_name': '88.jpeg'},), ({'id': 89, 'width': '6000px', 'height': '4000px', 'file_name': '89.jpeg'},), ({'id': 90, 'width': '4752px', 'height': '3168px', 'file_name': '90.jpeg'},), ({'id': 91, 'width': '2624px', 'height': '3936px', 'file_name': '91.jpeg'},), ({'id': 92, 'width': '5472px', 'height': '3648px', 'file_name': '92.jpeg'},), ({'id': 93, 'width': '4000px', 'height': '6000px', 'file_name': '93.jpeg'},), ({'id': 94, 'width': '4386px', 'height': '2924px', 'file_name': '94.jpeg'},), ({'id': 95, 'width': '2606px', 'height': '3673px', 'file_name': '95.jpeg'},), ({'id': 96, 'width': '4608px', 'height': '3456px', 'file_name': '96.jpeg'},), ({'id': 97, 'width': '5968px', 'height': '3984px', 'file_name': '97.jpeg'},), ({'id': 98, 'width': '5472px', 'height': '3648px', 'file_name': '98.jpeg'},), ({'id': 99, 'width': '5355px', 'height': '3570px', 'file_name': '99.jpeg'},), ({'id': 100, 'width': '3936px', 'height': '2624px', 'file_name': '100.jpeg'},), ({'id': 101, 'width': '3870px', 'height': '2580px', 'file_name': '101.jpeg'},), ({'id': 102, 'width': '2506px', 'height': '3859px', 'file_name': '102.jpeg'},), ({'id': 103, 'width': '4000px', 'height': '6000px', 'file_name': '103.jpeg'},), ({'id': 104, 'width': '3000px', 'height': '4000px', 'file_name': '104.jpeg'},), ({'id': 105, 'width': '4000px', 'height': '6000px', 'file_name': '105.jpeg'},), ({'id': 106, 'width': '4928px', 'height': '3264px', 'file_name': '106.jpeg'},), ({'id': 107, 'width': '4896px', 'height': '3264px', 'file_name': '107.jpeg'},), ({'id': 108, 'width': '5496px', 'height': '3670px', 'file_name': '108.jpeg'},), ({'id': 109, 'width': '6000px', 'height': '4000px', 'file_name': '109.jpeg'},), ({'id': 110, 'width': '4000px', 'height': '6000px', 'file_name': '110.jpeg'},), ({'id': 111, 'width': '5472px', 'height': '3283px', 'file_name': '111.jpeg'},), ({'id': 112, 'width': '5760px', 'height': '3840px', 'file_name': '112.jpeg'},), ({'id': 113, 'width': '4000px', 'height': '6000px', 'file_name': '113.jpeg'},), ({'id': 114, 'width': '3016px', 'height': '4427px', 'file_name': '114.jpeg'},), ({'id': 115, 'width': '4032px', 'height': '3024px', 'file_name': '115.jpeg'},), ({'id': 116, 'width': '3448px', 'height': '4310px', 'file_name': '116.jpeg'},), ({'id': 117, 'width': '6032px', 'height': '4014px', 'file_name': '117.jpeg'},), ({'id': 119, 'width': '5839px', 'height': '3887px', 'file_name': '119.jpeg'},), ({'id': 120, 'width': '5184px', 'height': '2836px', 'file_name': '120.jpeg'},), ({'id': 121, 'width': '6000px', 'height': '4000px', 'file_name': '121.jpeg'},), ({'id': 122, 'width': '6000px', 'height': '4000px', 'file_name': '122.jpeg'},), ({'id': 123, 'width': '5206px', 'height': '3321px', 'file_name': '123.jpeg'},), ({'id': 124, 'width': '3840px', 'height': '2160px', 'file_name': '124.jpeg'},), ({'id': 125, 'width': '3948px', 'height': '5922px', 'file_name': '125.jpeg'},), ({'id': 126, 'width': '4864px', 'height': '3648px', 'file_name': '126.jpeg'},), ({'id': 127, 'width': '2988px', 'height': '2070px', 'file_name': '127.jpeg'},), ({'id': 128, 'width': '6016px', 'height': '4016px', 'file_name': '128.jpeg'},), ({'id': 129, 'width': '2587px', 'height': '3737px', 'file_name': '129.jpeg'},), ({'id': 130, 'width': '5173px', 'height': '3648px', 'file_name': '130.jpeg'},), ({'id': 131, 'width': '5616px', 'height': '3744px', 'file_name': '131.jpeg'},), ({'id': 132, 'width': '5884px', 'height': '3870px', 'file_name': '132.jpeg'},), ({'id': 133, 'width': '6016px', 'height': '4000px', 'file_name': '133.jpeg'},), ({'id': 134, 'width': '6016px', 'height': '3910px', 'file_name': '134.jpeg'},), ({'id': 135, 'width': '4940px', 'height': '3312px', 'file_name': '135.jpeg'},), ({'id': 136, 'width': '4000px', 'height': '6000px', 'file_name': '136.jpeg'},), ({'id': 137, 'width': '8688px', 'height': '5792px', 'file_name': '137.jpeg'},), ({'id': 138, 'width': '3064px', 'height': '3064px', 'file_name': '138.jpeg'},), ({'id': 139, 'width': '6016px', 'height': '4000px', 'file_name': '139.jpeg'},), ({'id': 140, 'width': '3484px', 'height': '4355px', 'file_name': '140.jpeg'},), ({'id': 141, 'width': '6000px', 'height': '4000px', 'file_name': '141.jpeg'},), ({'id': 144, 'width': '5472px', 'height': '3648px', 'file_name': '144.jpeg'},), ({'id': 145, 'width': '5061px', 'height': '7085px', 'file_name': '145.jpeg'},), ({'id': 146, 'width': '5184px', 'height': '3456px', 'file_name': '146.jpeg'},), ({'id': 147, 'width': '4344px', 'height': '2443px', 'file_name': '147.jpeg'},), ({'id': 148, 'width': '3866px', 'height': '5799px', 'file_name': '148.jpeg'},), ({'id': 149, 'width': '4752px', 'height': '3168px', 'file_name': '149.jpeg'},), ({'id': 150, 'width': '6016px', 'height': '4000px', 'file_name': '150.jpeg'},), ({'id': 151, 'width': '6016px', 'height': '4000px', 'file_name': '151.jpeg'},), ({'id': 152, 'width': '3456px', 'height': '4897px', 'file_name': '152.jpeg'},), ({'id': 153, 'width': '4000px', 'height': '3197px', 'file_name': '153.jpeg'},), ({'id': 154, 'width': '4560px', 'height': '3648px', 'file_name': '154.jpeg'},), ({'id': 155, 'width': '7255px', 'height': '4842px', 'file_name': '155.jpeg'},), ({'id': 156, 'width': '5472px', 'height': '3648px', 'file_name': '156.jpeg'},), ({'id': 157, 'width': '3024px', 'height': '4032px', 'file_name': '157.jpeg'},), ({'id': 158, 'width': '6000px', 'height': '4000px', 'file_name': '158.jpeg'},), ({'id': 159, 'width': '4000px', 'height': '6000px', 'file_name': '159.jpeg'},), ({'id': 160, 'width': '6000px', 'height': '4000px', 'file_name': '160.jpeg'},), ({'id': 162, 'width': '5947px', 'height': '3421px', 'file_name': '162.jpeg'},), ({'id': 163, 'width': '4822px', 'height': '3142px', 'file_name': '163.jpeg'},), ({'id': 164, 'width': '6000px', 'height': '4000px', 'file_name': '164.jpeg'},), ({'id': 165, 'width': '5472px', 'height': '3648px', 'file_name': '165.jpeg'},), ({'id': 166, 'width': '4679px', 'height': '3099px', 'file_name': '166.jpeg'},), ({'id': 167, 'width': '4288px', 'height': '2848px', 'file_name': '167.jpeg'},), ({'id': 168, 'width': '6400px', 'height': '4200px', 'file_name': '168.jpeg'},), ({'id': 169, 'width': '4000px', 'height': '3000px', 'file_name': '169.jpeg'},), ({'id': 170, 'width': '5000px', 'height': '3881px', 'file_name': '170.jpeg'},), ({'id': 171, 'width': '3569px', 'height': '4461px', 'file_name': '171.jpeg'},), ({'id': 172, 'width': '6000px', 'height': '4000px', 'file_name': '172.jpeg'},), ({'id': 173, 'width': '4928px', 'height': '3264px', 'file_name': '173.jpeg'},), ({'id': 174, 'width': '5313px', 'height': '3505px', 'file_name': '174.jpeg'},), ({'id': 175, 'width': '5304px', 'height': '7081px', 'file_name': '175.jpeg'},), ({'id': 176, 'width': '5184px', 'height': '3456px', 'file_name': '176.jpeg'},), ({'id': 177, 'width': '5184px', 'height': '3456px', 'file_name': '177.jpeg'},), ({'id': 178, 'width': '5472px', 'height': '3648px', 'file_name': '178.jpeg'},), ({'id': 179, 'width': '2848px', 'height': '4272px', 'file_name': '179.jpeg'},), ({'id': 180, 'width': '7731px', 'height': '5799px', 'file_name': '180.jpeg'},), ({'id': 181, 'width': '3000px', 'height': '2000px', 'file_name': '181.jpeg'},), ({'id': 182, 'width': '5472px', 'height': '3648px', 'file_name': '182.jpeg'},), ({'id': 183, 'width': '4000px', 'height': '3000px', 'file_name': '183.jpeg'},), ({'id': 184, 'width': '4896px', 'height': '3264px', 'file_name': '184.jpeg'},), ({'id': 185, 'width': '5170px', 'height': '3447px', 'file_name': '185.jpeg'},), ({'id': 186, 'width': '3949px', 'height': '5923px', 'file_name': '186.jpeg'},), ({'id': 187, 'width': '5916px', 'height': '3328px', 'file_name': '187.jpeg'},), ({'id': 188, 'width': '3049px', 'height': '4573px', 'file_name': '188.jpeg'},), ({'id': 189, 'width': '2992px', 'height': '2992px', 'file_name': '189.jpeg'},), ({'id': 190, 'width': '5472px', 'height': '3648px', 'file_name': '190.jpeg'},), ({'id': 191, 'width': '3840px', 'height': '5760px', 'file_name': '191.jpeg'},), ({'id': 192, 'width': '2100px', 'height': '3150px', 'file_name': '192.jpeg'},), ({'id': 193, 'width': '7360px', 'height': '4912px', 'file_name': '193.jpeg'},), ({'id': 194, 'width': '6000px', 'height': '4000px', 'file_name': '194.jpeg'},), ({'id': 195, 'width': '5760px', 'height': '3840px', 'file_name': '195.jpeg'},), ({'id': 196, 'width': '6000px', 'height': '4000px', 'file_name': '196.jpeg'},), ({'id': 197, 'width': '5496px', 'height': '3670px', 'file_name': '197.jpeg'},), ({'id': 198, 'width': '5070px', 'height': '3380px', 'file_name': '198.jpeg'},), ({'id': 199, 'width': '2950px', 'height': '2950px', 'file_name': '199.jpeg'},), ({'id': 200, 'width': '3170px', 'height': '4755px', 'file_name': '200.jpeg'},), ({'id': 201, 'width': '6000px', 'height': '4000px', 'file_name': '201.jpeg'},), ({'id': 202, 'width': '6000px', 'height': '4000px', 'file_name': '202.jpeg'},), ({'id': 203, 'width': '4656px', 'height': '3492px', 'file_name': '203.jpeg'},)]\n"
     ]
    }
   ],
   "source": [
    "print(nest['images'])"
   ]
  },
  {
   "cell_type": "code",
   "execution_count": 4,
   "metadata": {},
   "outputs": [],
   "source": [
    "# Saving the file\n",
    "with open('./final_captions.json', 'w') as json_file:\n",
    "    json.dump(nest, json_file)"
   ]
  },
  {
   "cell_type": "code",
   "execution_count": null,
   "metadata": {},
   "outputs": [],
   "source": []
  },
  {
   "cell_type": "code",
   "execution_count": null,
   "metadata": {},
   "outputs": [],
   "source": []
  }
 ],
 "metadata": {
  "kernelspec": {
   "display_name": "Python 3",
   "language": "python",
   "name": "python3"
  },
  "language_info": {
   "codemirror_mode": {
    "name": "ipython",
    "version": 3
   },
   "file_extension": ".py",
   "mimetype": "text/x-python",
   "name": "python",
   "nbconvert_exporter": "python",
   "pygments_lexer": "ipython3",
   "version": "3.7.7"
  }
 },
 "nbformat": 4,
 "nbformat_minor": 4
}
