{
  "nbformat": 4,
  "nbformat_minor": 0,
  "metadata": {
    "kernelspec": {
      "display_name": "Python 3",
      "language": "python",
      "name": "python3"
    },
    "language_info": {
      "codemirror_mode": {
        "name": "ipython",
        "version": 3
      },
      "file_extension": ".py",
      "mimetype": "text/x-python",
      "name": "python",
      "nbconvert_exporter": "python",
      "pygments_lexer": "ipython3",
      "version": "3.7.7"
    },
    "colab": {
      "name": "Vizwiz.ipynb",
      "provenance": []
    }
  },
  "cells": [
    {
      "cell_type": "markdown",
      "metadata": {
        "id": "AqZBDRuLx7KM"
      },
      "source": [
        " **Creating function to import json file**\n",
        " \n",
        "Importing image id and annotations from json file\n",
        "\n"
      ]
    },
    {
      "cell_type": "code",
      "metadata": {
        "id": "sbjiItqwOF8U"
      },
      "source": [
        "import json\n",
        "def json_to_dict(file):\n",
        "    with open(file) as f:\n",
        "        json_data = json.load(f)\n",
        "        images = json_data['images']\n",
        "        annotations = json_data['annotations']\n",
        "        return(images,annotations)\n"
      ],
      "execution_count": null,
      "outputs": []
    },
    {
      "cell_type": "markdown",
      "metadata": {
        "id": "vZ4Le3v0yX3d"
      },
      "source": [
        "**Storing imported images and annotations**"
      ]
    },
    {
      "cell_type": "code",
      "metadata": {
        "id": "6y0aITdMOF8Z"
      },
      "source": [
        "images, annotations = json_to_dict('./train.json')"
      ],
      "execution_count": null,
      "outputs": []
    },
    {
      "cell_type": "markdown",
      "metadata": {
        "id": "mq7p05UJyhKH"
      },
      "source": [
        "**Creating list of annotion and images id**"
      ]
    },
    {
      "cell_type": "code",
      "metadata": {
        "id": "87l2GyaiOF8f"
      },
      "source": [
        "list_annot = []\n",
        "for annotation in annotations:\n",
        "    annot = { \"caption\" : annotation[\"caption\"], \n",
        "            \"image_id\" : annotation[\"image_id\"],\n",
        "             \"id\":annotation[\"id\"]\n",
        "            }\n",
        "    list_annot.append(annot)"
      ],
      "execution_count": null,
      "outputs": []
    },
    {
      "cell_type": "markdown",
      "metadata": {
        "id": "PyybKePIyt1q"
      },
      "source": [
        "**Function to convert into panda dataframe**"
      ]
    },
    {
      "cell_type": "code",
      "metadata": {
        "id": "eJeBJfB6OF8h"
      },
      "source": [
        "import pandas as pd\n",
        "def convert_to_df(dict_):\n",
        "    return pd.DataFrame.from_dict(dict_)"
      ],
      "execution_count": null,
      "outputs": []
    },
    {
      "cell_type": "markdown",
      "metadata": {
        "id": "bKU_qWB1y3GC"
      },
      "source": [
        "**Creating dataframe from the list**\n",
        "\n",
        "Calculating length of caption"
      ]
    },
    {
      "cell_type": "code",
      "metadata": {
        "id": "8BT36oIPOF8m",
        "outputId": "ffe01986-1e06-4136-880b-a39b3d9f2f85",
        "colab": {
          "base_uri": "https://localhost:8080/",
          "height": 200
        }
      },
      "source": [
        "\n",
        "annot_df = convert_to_df(list_annot)\n",
        "annot_df['caption_len'] = annot_df['caption'].apply(len)\n",
        "annot_df.head()\n"
      ],
      "execution_count": null,
      "outputs": [
        {
          "output_type": "execute_result",
          "data": {
            "text/html": [
              "<div>\n",
              "<style scoped>\n",
              "    .dataframe tbody tr th:only-of-type {\n",
              "        vertical-align: middle;\n",
              "    }\n",
              "\n",
              "    .dataframe tbody tr th {\n",
              "        vertical-align: top;\n",
              "    }\n",
              "\n",
              "    .dataframe thead th {\n",
              "        text-align: right;\n",
              "    }\n",
              "</style>\n",
              "<table border=\"1\" class=\"dataframe\">\n",
              "  <thead>\n",
              "    <tr style=\"text-align: right;\">\n",
              "      <th></th>\n",
              "      <th>caption</th>\n",
              "      <th>image_id</th>\n",
              "      <th>id</th>\n",
              "      <th>caption_len</th>\n",
              "    </tr>\n",
              "  </thead>\n",
              "  <tbody>\n",
              "    <tr>\n",
              "      <th>0</th>\n",
              "      <td>ITS IS A BASIL LEAVES CONTAINER ITS CONTAINS T...</td>\n",
              "      <td>0</td>\n",
              "      <td>0</td>\n",
              "      <td>64</td>\n",
              "    </tr>\n",
              "    <tr>\n",
              "      <th>1</th>\n",
              "      <td>A green and white plastic condiment bottle con...</td>\n",
              "      <td>0</td>\n",
              "      <td>1</td>\n",
              "      <td>67</td>\n",
              "    </tr>\n",
              "    <tr>\n",
              "      <th>2</th>\n",
              "      <td>Quality issues are too severe to recognize vis...</td>\n",
              "      <td>0</td>\n",
              "      <td>2</td>\n",
              "      <td>58</td>\n",
              "    </tr>\n",
              "    <tr>\n",
              "      <th>3</th>\n",
              "      <td>A bottle of spices in a plastic container layi...</td>\n",
              "      <td>0</td>\n",
              "      <td>3</td>\n",
              "      <td>62</td>\n",
              "    </tr>\n",
              "    <tr>\n",
              "      <th>4</th>\n",
              "      <td>some basil leaves in a container on a counter</td>\n",
              "      <td>0</td>\n",
              "      <td>4</td>\n",
              "      <td>45</td>\n",
              "    </tr>\n",
              "  </tbody>\n",
              "</table>\n",
              "</div>"
            ],
            "text/plain": [
              "                                             caption  image_id  id  caption_len\n",
              "0  ITS IS A BASIL LEAVES CONTAINER ITS CONTAINS T...         0   0           64\n",
              "1  A green and white plastic condiment bottle con...         0   1           67\n",
              "2  Quality issues are too severe to recognize vis...         0   2           58\n",
              "3  A bottle of spices in a plastic container layi...         0   3           62\n",
              "4      some basil leaves in a container on a counter         0   4           45"
            ]
          },
          "metadata": {
            "tags": []
          },
          "execution_count": 52
        }
      ]
    },
    {
      "cell_type": "code",
      "metadata": {
        "id": "ftWShsfKOF8p",
        "outputId": "5e3cdd61-4262-46a2-85d4-e13e9ae72372",
        "colab": {
          "base_uri": "https://localhost:8080/",
          "height": 35
        }
      },
      "source": [
        "len(annot_df)"
      ],
      "execution_count": null,
      "outputs": [
        {
          "output_type": "execute_result",
          "data": {
            "text/plain": [
              "117155"
            ]
          },
          "metadata": {
            "tags": []
          },
          "execution_count": 53
        }
      ]
    },
    {
      "cell_type": "markdown",
      "metadata": {
        "id": "zeYrZScrzGW4"
      },
      "source": [
        "**Using Groupby method to group image id**"
      ]
    },
    {
      "cell_type": "code",
      "metadata": {
        "id": "IdXbWSKgOF8r",
        "outputId": "d3265c9f-e433-4689-a09b-a80aba5e6506",
        "colab": {
          "base_uri": "https://localhost:8080/",
          "height": 200
        }
      },
      "source": [
        "grouped_single=annot_df.groupby('image_id')['caption_len'].apply(max).reset_index().rename(columns={'image_id':'image_id','caption_len' : 'caption_len'})\n",
        "\n",
        "\n",
        "grouped_single.head()\n"
      ],
      "execution_count": null,
      "outputs": [
        {
          "output_type": "execute_result",
          "data": {
            "text/html": [
              "<div>\n",
              "<style scoped>\n",
              "    .dataframe tbody tr th:only-of-type {\n",
              "        vertical-align: middle;\n",
              "    }\n",
              "\n",
              "    .dataframe tbody tr th {\n",
              "        vertical-align: top;\n",
              "    }\n",
              "\n",
              "    .dataframe thead th {\n",
              "        text-align: right;\n",
              "    }\n",
              "</style>\n",
              "<table border=\"1\" class=\"dataframe\">\n",
              "  <thead>\n",
              "    <tr style=\"text-align: right;\">\n",
              "      <th></th>\n",
              "      <th>image_id</th>\n",
              "      <th>caption_len</th>\n",
              "    </tr>\n",
              "  </thead>\n",
              "  <tbody>\n",
              "    <tr>\n",
              "      <th>0</th>\n",
              "      <td>0</td>\n",
              "      <td>67</td>\n",
              "    </tr>\n",
              "    <tr>\n",
              "      <th>1</th>\n",
              "      <td>1</td>\n",
              "      <td>104</td>\n",
              "    </tr>\n",
              "    <tr>\n",
              "      <th>2</th>\n",
              "      <td>2</td>\n",
              "      <td>98</td>\n",
              "    </tr>\n",
              "    <tr>\n",
              "      <th>3</th>\n",
              "      <td>3</td>\n",
              "      <td>132</td>\n",
              "    </tr>\n",
              "    <tr>\n",
              "      <th>4</th>\n",
              "      <td>4</td>\n",
              "      <td>63</td>\n",
              "    </tr>\n",
              "  </tbody>\n",
              "</table>\n",
              "</div>"
            ],
            "text/plain": [
              "   image_id  caption_len\n",
              "0         0           67\n",
              "1         1          104\n",
              "2         2           98\n",
              "3         3          132\n",
              "4         4           63"
            ]
          },
          "metadata": {
            "tags": []
          },
          "execution_count": 54
        }
      ]
    },
    {
      "cell_type": "code",
      "metadata": {
        "id": "uwVAJq4SOF8t",
        "outputId": "cffd812b-a504-4be0-db62-a406e31db74f",
        "colab": {
          "base_uri": "https://localhost:8080/",
          "height": 35
        }
      },
      "source": [
        "len(grouped_single)"
      ],
      "execution_count": null,
      "outputs": [
        {
          "output_type": "execute_result",
          "data": {
            "text/plain": [
              "23431"
            ]
          },
          "metadata": {
            "tags": []
          },
          "execution_count": 55
        }
      ]
    },
    {
      "cell_type": "markdown",
      "metadata": {
        "id": "Cnjmsj3LzUFP"
      },
      "source": [
        "**Merging dataframe**"
      ]
    },
    {
      "cell_type": "code",
      "metadata": {
        "id": "UnVfKkSOOF8w",
        "outputId": "ac5a4183-754c-42ba-8714-97b75d02601f",
        "colab": {
          "base_uri": "https://localhost:8080/",
          "height": 200
        }
      },
      "source": [
        "dfinal = grouped_single.merge(annot_df,on = [\"image_id\", \"caption_len\"], how=\"left\")\n",
        "dfinal.head()\n",
        " "
      ],
      "execution_count": null,
      "outputs": [
        {
          "output_type": "execute_result",
          "data": {
            "text/html": [
              "<div>\n",
              "<style scoped>\n",
              "    .dataframe tbody tr th:only-of-type {\n",
              "        vertical-align: middle;\n",
              "    }\n",
              "\n",
              "    .dataframe tbody tr th {\n",
              "        vertical-align: top;\n",
              "    }\n",
              "\n",
              "    .dataframe thead th {\n",
              "        text-align: right;\n",
              "    }\n",
              "</style>\n",
              "<table border=\"1\" class=\"dataframe\">\n",
              "  <thead>\n",
              "    <tr style=\"text-align: right;\">\n",
              "      <th></th>\n",
              "      <th>image_id</th>\n",
              "      <th>caption_len</th>\n",
              "      <th>caption</th>\n",
              "      <th>id</th>\n",
              "    </tr>\n",
              "  </thead>\n",
              "  <tbody>\n",
              "    <tr>\n",
              "      <th>0</th>\n",
              "      <td>0</td>\n",
              "      <td>67</td>\n",
              "      <td>A green and white plastic condiment bottle con...</td>\n",
              "      <td>1</td>\n",
              "    </tr>\n",
              "    <tr>\n",
              "      <th>1</th>\n",
              "      <td>1</td>\n",
              "      <td>104</td>\n",
              "      <td>A kitchen counter the various items on top inc...</td>\n",
              "      <td>7</td>\n",
              "    </tr>\n",
              "    <tr>\n",
              "      <th>2</th>\n",
              "      <td>2</td>\n",
              "      <td>98</td>\n",
              "      <td>A can of crushed tomatoes are on a brown surfa...</td>\n",
              "      <td>10</td>\n",
              "    </tr>\n",
              "    <tr>\n",
              "      <th>3</th>\n",
              "      <td>3</td>\n",
              "      <td>132</td>\n",
              "      <td>A screenshot of Spotify page on a cell phone s...</td>\n",
              "      <td>19</td>\n",
              "    </tr>\n",
              "    <tr>\n",
              "      <th>4</th>\n",
              "      <td>4</td>\n",
              "      <td>63</td>\n",
              "      <td>A box containing information about a solar gar...</td>\n",
              "      <td>21</td>\n",
              "    </tr>\n",
              "  </tbody>\n",
              "</table>\n",
              "</div>"
            ],
            "text/plain": [
              "   image_id  caption_len                                            caption  id\n",
              "0         0           67  A green and white plastic condiment bottle con...   1\n",
              "1         1          104  A kitchen counter the various items on top inc...   7\n",
              "2         2           98  A can of crushed tomatoes are on a brown surfa...  10\n",
              "3         3          132  A screenshot of Spotify page on a cell phone s...  19\n",
              "4         4           63  A box containing information about a solar gar...  21"
            ]
          },
          "metadata": {
            "tags": []
          },
          "execution_count": 56
        }
      ]
    },
    {
      "cell_type": "markdown",
      "metadata": {
        "id": "BW9k5v01zdqJ"
      },
      "source": [
        "**Removing duplicates image id**"
      ]
    },
    {
      "cell_type": "code",
      "metadata": {
        "id": "iCAY90_6OF8y",
        "outputId": "d1601df0-d436-4026-d50d-a32df7d79f12",
        "colab": {
          "base_uri": "https://localhost:8080/",
          "height": 200
        }
      },
      "source": [
        "dfinal = dfinal.drop_duplicates(subset=['image_id']).drop(\"caption_len\",1)\n",
        "dfinal.head()"
      ],
      "execution_count": null,
      "outputs": [
        {
          "output_type": "execute_result",
          "data": {
            "text/html": [
              "<div>\n",
              "<style scoped>\n",
              "    .dataframe tbody tr th:only-of-type {\n",
              "        vertical-align: middle;\n",
              "    }\n",
              "\n",
              "    .dataframe tbody tr th {\n",
              "        vertical-align: top;\n",
              "    }\n",
              "\n",
              "    .dataframe thead th {\n",
              "        text-align: right;\n",
              "    }\n",
              "</style>\n",
              "<table border=\"1\" class=\"dataframe\">\n",
              "  <thead>\n",
              "    <tr style=\"text-align: right;\">\n",
              "      <th></th>\n",
              "      <th>image_id</th>\n",
              "      <th>caption</th>\n",
              "      <th>id</th>\n",
              "    </tr>\n",
              "  </thead>\n",
              "  <tbody>\n",
              "    <tr>\n",
              "      <th>0</th>\n",
              "      <td>0</td>\n",
              "      <td>A green and white plastic condiment bottle con...</td>\n",
              "      <td>1</td>\n",
              "    </tr>\n",
              "    <tr>\n",
              "      <th>1</th>\n",
              "      <td>1</td>\n",
              "      <td>A kitchen counter the various items on top inc...</td>\n",
              "      <td>7</td>\n",
              "    </tr>\n",
              "    <tr>\n",
              "      <th>2</th>\n",
              "      <td>2</td>\n",
              "      <td>A can of crushed tomatoes are on a brown surfa...</td>\n",
              "      <td>10</td>\n",
              "    </tr>\n",
              "    <tr>\n",
              "      <th>3</th>\n",
              "      <td>3</td>\n",
              "      <td>A screenshot of Spotify page on a cell phone s...</td>\n",
              "      <td>19</td>\n",
              "    </tr>\n",
              "    <tr>\n",
              "      <th>4</th>\n",
              "      <td>4</td>\n",
              "      <td>A box containing information about a solar gar...</td>\n",
              "      <td>21</td>\n",
              "    </tr>\n",
              "  </tbody>\n",
              "</table>\n",
              "</div>"
            ],
            "text/plain": [
              "   image_id                                            caption  id\n",
              "0         0  A green and white plastic condiment bottle con...   1\n",
              "1         1  A kitchen counter the various items on top inc...   7\n",
              "2         2  A can of crushed tomatoes are on a brown surfa...  10\n",
              "3         3  A screenshot of Spotify page on a cell phone s...  19\n",
              "4         4  A box containing information about a solar gar...  21"
            ]
          },
          "metadata": {
            "tags": []
          },
          "execution_count": 57
        }
      ]
    },
    {
      "cell_type": "code",
      "metadata": {
        "id": "Py3M-AWQOF80"
      },
      "source": [
        "dfinal=dfinal.reset_index()"
      ],
      "execution_count": null,
      "outputs": []
    },
    {
      "cell_type": "code",
      "metadata": {
        "id": "hYSbhSsQOF81",
        "outputId": "d2f88f35-de97-45ef-ee2c-5444145c736a",
        "colab": {
          "base_uri": "https://localhost:8080/",
          "height": 35
        }
      },
      "source": [
        "len(dfinal) == len(images)"
      ],
      "execution_count": null,
      "outputs": [
        {
          "output_type": "execute_result",
          "data": {
            "text/plain": [
              "True"
            ]
          },
          "metadata": {
            "tags": []
          },
          "execution_count": 59
        }
      ]
    },
    {
      "cell_type": "markdown",
      "metadata": {
        "id": "9KREu4Cqzrnn"
      },
      "source": [
        "**Converting dataframe into dictionary**"
      ]
    },
    {
      "cell_type": "code",
      "metadata": {
        "id": "FsCEkwawOF83",
        "outputId": "0b12299e-5801-4fd6-a9c0-62a962b77db6",
        "colab": {
          "base_uri": "https://localhost:8080/",
          "height": 144
        }
      },
      "source": [
        "annot_dict= dfinal.to_dict('r')\n",
        "annot_dict[7740]"
      ],
      "execution_count": null,
      "outputs": [
        {
          "output_type": "stream",
          "text": [
            "/usr/local/lib/python3.6/dist-packages/pandas/core/frame.py:1490: FutureWarning: Using short name for 'orient' is deprecated. Only the options: ('dict', list, 'series', 'split', 'records', 'index') will be used in a future version. Use one of the above to silence this warning.\n",
            "  FutureWarning,\n"
          ],
          "name": "stderr"
        },
        {
          "output_type": "execute_result",
          "data": {
            "text/plain": [
              "{'caption': 'Box of instant pudding with a mug on a plate in the background overflowing with some substance.',\n",
              " 'id': 38702,\n",
              " 'image_id': 7740,\n",
              " 'index': 9316}"
            ]
          },
          "metadata": {
            "tags": []
          },
          "execution_count": 60
        }
      ]
    },
    {
      "cell_type": "code",
      "metadata": {
        "id": "wScK533QOF85",
        "outputId": "1b2e3302-4e7f-4a05-ac07-51ca2344ffa8",
        "colab": {
          "base_uri": "https://localhost:8080/",
          "height": 88
        }
      },
      "source": [
        "images[0]"
      ],
      "execution_count": null,
      "outputs": [
        {
          "output_type": "execute_result",
          "data": {
            "text/plain": [
              "{'file_name': 'VizWiz_train_00000000.jpg',\n",
              " 'id': 0,\n",
              " 'text_detected': True,\n",
              " 'vizwiz_url': 'https://ivc.ischool.utexas.edu/VizWiz_visualization_img/VizWiz_train_00000000.jpg'}"
            ]
          },
          "metadata": {
            "tags": []
          },
          "execution_count": 61
        }
      ]
    },
    {
      "cell_type": "code",
      "metadata": {
        "id": "msVFpaFxOF87",
        "outputId": "6b036c68-0f22-4b15-98e2-753337093459",
        "colab": {
          "base_uri": "https://localhost:8080/",
          "height": 35
        }
      },
      "source": [
        "len(annot_dict)"
      ],
      "execution_count": null,
      "outputs": [
        {
          "output_type": "execute_result",
          "data": {
            "text/plain": [
              "23431"
            ]
          },
          "metadata": {
            "tags": []
          },
          "execution_count": 62
        }
      ]
    },
    {
      "cell_type": "code",
      "metadata": {
        "id": "lJWiAyx2OF89"
      },
      "source": [
        "json_final = {\n",
        "    \"images\": images,\n",
        "    \"annotations\":annot_dict\n",
        "}"
      ],
      "execution_count": null,
      "outputs": []
    },
    {
      "cell_type": "code",
      "metadata": {
        "id": "PMv5F7kmOF8_"
      },
      "source": [
        "\n",
        "with open('./captions_vizwiz2020.json', 'w') as json_file:\n",
        "    json.dump(json_final, json_file)"
      ],
      "execution_count": null,
      "outputs": []
    },
    {
      "cell_type": "code",
      "metadata": {
        "id": "4SNTKE9zOF9B"
      },
      "source": [
        "#Saving top 200"
      ],
      "execution_count": null,
      "outputs": []
    },
    {
      "cell_type": "code",
      "metadata": {
        "id": "UyPIgq6DOF9D",
        "outputId": "9b4982de-15d4-4ecb-9ccc-913a868596db",
        "colab": {
          "base_uri": "https://localhost:8080/",
          "height": 35
        }
      },
      "source": [
        " len(images[0:200]) == len(dfinal.head(200))"
      ],
      "execution_count": null,
      "outputs": [
        {
          "output_type": "execute_result",
          "data": {
            "text/plain": [
              "True"
            ]
          },
          "metadata": {
            "tags": []
          },
          "execution_count": 66
        }
      ]
    },
    {
      "cell_type": "code",
      "metadata": {
        "id": "2LQPz0onOF9F",
        "outputId": "1914dddf-79a3-4e8d-9cf1-3a1cec72d559",
        "colab": {
          "base_uri": "https://localhost:8080/",
          "height": 72
        }
      },
      "source": [
        "json_final_200 = {\n",
        "    \"images\": images[0:200],\n",
        "    \"annotations\":dfinal.head(200).to_dict('r')\n",
        "}"
      ],
      "execution_count": null,
      "outputs": [
        {
          "output_type": "stream",
          "text": [
            "/usr/local/lib/python3.6/dist-packages/pandas/core/frame.py:1490: FutureWarning: Using short name for 'orient' is deprecated. Only the options: ('dict', list, 'series', 'split', 'records', 'index') will be used in a future version. Use one of the above to silence this warning.\n",
            "  FutureWarning,\n"
          ],
          "name": "stderr"
        }
      ]
    },
    {
      "cell_type": "markdown",
      "metadata": {
        "id": "sCTQ-Txmz_pW"
      },
      "source": [
        "**Dumping final 200 captions and image id**"
      ]
    },
    {
      "cell_type": "code",
      "metadata": {
        "id": "9PVrVPNMOF9H"
      },
      "source": [
        "with open('./captions_vizwiz2020_top200.json', 'w') as json_file:\n",
        "    json.dump(json_final_200, json_file)"
      ],
      "execution_count": null,
      "outputs": []
    },
    {
      "cell_type": "code",
      "metadata": {
        "id": "-5Gn4OZfOF9J"
      },
      "source": [
        ""
      ],
      "execution_count": null,
      "outputs": []
    }
  ]
}