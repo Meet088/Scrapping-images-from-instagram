{
  "nbformat": 4,
  "nbformat_minor": 0,
  "metadata": {
    "kernelspec": {
      "display_name": "Python 3",
      "language": "python",
      "name": "python3"
    },
    "language_info": {
      "codemirror_mode": {
        "name": "ipython",
        "version": 3
      },
      "file_extension": ".py",
      "mimetype": "text/x-python",
      "name": "python",
      "nbconvert_exporter": "python",
      "pygments_lexer": "ipython3",
      "version": "3.7.7"
    },
    "colab": {
      "name": "TopNGoogle-Survey.ipynb",
      "provenance": [],
      "collapsed_sections": []
    }
  },
  "cells": [
    {
      "cell_type": "code",
      "metadata": {
        "id": "G46aMhhPt8Xf"
      },
      "source": [
        "import pandas as pd"
      ],
      "execution_count": null,
      "outputs": []
    },
    {
      "cell_type": "markdown",
      "metadata": {
        "id": "hxcUVV2vuFK6"
      },
      "source": [
        "#Reading Dataset from CSV file"
      ]
    },
    {
      "cell_type": "code",
      "metadata": {
        "id": "apjv8TgMt8Xk",
        "outputId": "6fce648f-a3c0-4638-94bf-7124b2ad3922"
      },
      "source": [
        "captions_path = './survey/survey.csv'\n",
        "captions = pd.read_csv(captions_path, header=None)\n",
        "captions.columns = ['captions']\n",
        "\n",
        "captions_df = pd.DataFrame(captions)\n",
        "captions_df=captions_df.head(10000)\n",
        "captions_df['id'] = list(range(5000,6000))[:len(captions_df)]\n",
        "captions_df.head(10)"
      ],
      "execution_count": null,
      "outputs": [
        {
          "output_type": "execute_result",
          "data": {
            "text/html": [
              "<div>\n",
              "<style scoped>\n",
              "    .dataframe tbody tr th:only-of-type {\n",
              "        vertical-align: middle;\n",
              "    }\n",
              "\n",
              "    .dataframe tbody tr th {\n",
              "        vertical-align: top;\n",
              "    }\n",
              "\n",
              "    .dataframe thead th {\n",
              "        text-align: right;\n",
              "    }\n",
              "</style>\n",
              "<table border=\"1\" class=\"dataframe\">\n",
              "  <thead>\n",
              "    <tr style=\"text-align: right;\">\n",
              "      <th></th>\n",
              "      <th>captions</th>\n",
              "      <th>id</th>\n",
              "    </tr>\n",
              "  </thead>\n",
              "  <tbody>\n",
              "    <tr>\n",
              "      <th>0</th>\n",
              "      <td>Sun is shining to the brightest.</td>\n",
              "      <td>5000</td>\n",
              "    </tr>\n",
              "    <tr>\n",
              "      <th>1</th>\n",
              "      <td>Annapurna range seen from Pokhara.</td>\n",
              "      <td>5001</td>\n",
              "    </tr>\n",
              "    <tr>\n",
              "      <th>2</th>\n",
              "      <td>A girl and a boy are riding bicycle.</td>\n",
              "      <td>5002</td>\n",
              "    </tr>\n",
              "    <tr>\n",
              "      <th>3</th>\n",
              "      <td>A deer is eating food in an open area and tige...</td>\n",
              "      <td>5003</td>\n",
              "    </tr>\n",
              "    <tr>\n",
              "      <th>4</th>\n",
              "      <td>A girl is crossing the road.</td>\n",
              "      <td>5004</td>\n",
              "    </tr>\n",
              "    <tr>\n",
              "      <th>5</th>\n",
              "      <td>A woman is staring out the window.</td>\n",
              "      <td>5005</td>\n",
              "    </tr>\n",
              "    <tr>\n",
              "      <th>6</th>\n",
              "      <td>Ugh! Why are you yelling at me?</td>\n",
              "      <td>5006</td>\n",
              "    </tr>\n",
              "    <tr>\n",
              "      <th>7</th>\n",
              "      <td>A plastic rewards card lying face down on the ...</td>\n",
              "      <td>5007</td>\n",
              "    </tr>\n",
              "    <tr>\n",
              "      <th>8</th>\n",
              "      <td>A boy under the sun.</td>\n",
              "      <td>5008</td>\n",
              "    </tr>\n",
              "    <tr>\n",
              "      <th>9</th>\n",
              "      <td>plate full of fruits.</td>\n",
              "      <td>5009</td>\n",
              "    </tr>\n",
              "  </tbody>\n",
              "</table>\n",
              "</div>"
            ],
            "text/plain": [
              "                                            captions    id\n",
              "0                   Sun is shining to the brightest.  5000\n",
              "1                Annapurna range seen from Pokhara.   5001\n",
              "2               A girl and a boy are riding bicycle.  5002\n",
              "3  A deer is eating food in an open area and tige...  5003\n",
              "4                       A girl is crossing the road.  5004\n",
              "5                 A woman is staring out the window.  5005\n",
              "6                    Ugh! Why are you yelling at me?  5006\n",
              "7  A plastic rewards card lying face down on the ...  5007\n",
              "8                               A boy under the sun.  5008\n",
              "9                              plate full of fruits.  5009"
            ]
          },
          "metadata": {
            "tags": []
          },
          "execution_count": 2
        }
      ]
    },
    {
      "cell_type": "markdown",
      "metadata": {
        "id": "me8Q-KObuKPw"
      },
      "source": [
        "#Using Selenium library with webdriver"
      ]
    },
    {
      "cell_type": "code",
      "metadata": {
        "id": "vvd11NIdt8Xq"
      },
      "source": [
        "# Import required libraries\n",
        "from selenium import webdriver\n",
        "from selenium.webdriver.common.keys import Keys\n",
        "from time import sleep\n",
        "from parsel import Selector\n",
        "import urllib\n",
        "import urllib.request\n",
        "import numpy as np\n",
        "import pandas as pd\n",
        "import math"
      ],
      "execution_count": null,
      "outputs": []
    },
    {
      "cell_type": "code",
      "metadata": {
        "id": "k7VDPEBZt8Xt"
      },
      "source": [
        "# To ignore warnings\n",
        "import warnings\n",
        "warnings.filterwarnings(\"ignore\")"
      ],
      "execution_count": null,
      "outputs": []
    },
    {
      "cell_type": "code",
      "metadata": {
        "id": "6I77kcJ4t8Xx",
        "outputId": "9631a8b6-36ca-4b56-9f5e-43dddadc71e7"
      },
      "source": [
        "from webdriver_manager.chrome import ChromeDriverManager\n",
        "\n",
        "driver = webdriver.Chrome(ChromeDriverManager().install())"
      ],
      "execution_count": null,
      "outputs": [
        {
          "output_type": "stream",
          "text": [
            "[WDM] - Current google-chrome version is 86.0.4240\n",
            "[WDM] - Get LATEST driver version for 86.0.4240\n"
          ],
          "name": "stderr"
        },
        {
          "output_type": "stream",
          "text": [
            " \n"
          ],
          "name": "stdout"
        },
        {
          "output_type": "stream",
          "text": [
            "[WDM] - Driver [/Users/prekshyabasnet/.wdm/drivers/chromedriver/mac64/86.0.4240.22/chromedriver] found in cache\n"
          ],
          "name": "stderr"
        }
      ]
    },
    {
      "cell_type": "markdown",
      "metadata": {
        "id": "1b7TRRQFuRgM"
      },
      "source": [
        "#Initiating Google.com website"
      ]
    },
    {
      "cell_type": "code",
      "metadata": {
        "id": "r6wyH85-t8X1"
      },
      "source": [
        "#url = \"www.google.com\"\n",
        "driver.get(\"https://www.google.com\")\n",
        "sleep(1)"
      ],
      "execution_count": null,
      "outputs": []
    },
    {
      "cell_type": "markdown",
      "metadata": {
        "id": "2y0xt3nWuWZ7"
      },
      "source": [
        "#Utility funtion to save the downloaded image and caption in JSON format"
      ]
    },
    {
      "cell_type": "code",
      "metadata": {
        "id": "7mxZw2RPt8X6"
      },
      "source": [
        "def save_TopFour(src,j,i,caption):\n",
        "    urllib.request.urlretrieve(src,'./survey/images/%s_%s.jpeg'%(j,i))\n",
        "    image = {\n",
        "        \"file_name\":'%s_%s.jpeg'%(j,i),\n",
        "        \"id\": '%s_%s'%(j,i)\n",
        "    }\n",
        "    annotation = {\n",
        "        \"caption\": caption,\n",
        "        \"id\": '%s_%s'%(j,i),\n",
        "        \"image_id\": '%s_%s'%(j,i)\n",
        "    }\n",
        "    return image, annotation\n",
        "            "
      ],
      "execution_count": null,
      "outputs": []
    },
    {
      "cell_type": "markdown",
      "metadata": {
        "id": "Fa_9S2TvuhCv"
      },
      "source": [
        "#Webscrapping using Selenium to get four images for each caption"
      ]
    },
    {
      "cell_type": "code",
      "metadata": {
        "id": "DW2ttNcmt8X-"
      },
      "source": [
        "from tqdm import tqdm \n",
        "\n",
        "def get_image_for_captions(captions):\n",
        "    images = []\n",
        "    annotations = []\n",
        "    for j,row in tqdm(captions.iterrows(),desc=\"Downloading...\"):\n",
        "        sleep(2)\n",
        "        driver.find_element_by_name('q').send_keys(row['captions'])\n",
        "        driver.find_element_by_xpath(\"/html/body/div[2]/div[2]/form/div[2]/div[1]/div[3]/center/input[1]\").click()\n",
        "        \n",
        "        sleep(2)\n",
        "        elements = driver.find_elements_by_class_name(\"q.qs\")\n",
        "        image = [element for element in elements if element.text == \"Images\"][0]\n",
        "        image.click()\n",
        "        imgs = driver.find_elements_by_class_name(\"rg_i.Q4LuWd\")\n",
        "\n",
        "        for i in range(len(imgs)):\n",
        "            if(i==4):\n",
        "                break\n",
        "            else:\n",
        "                src  = imgs[i].get_attribute('src')\n",
        "                alt_txt = imgs[i].get_attribute('alt')\n",
        "                image,annotation = save_TopFour(src,row['id'],i,row['captions'])\n",
        "                images.append(image)\n",
        "                annotations.append(annotation)\n",
        "        driver.get(\"https://www.google.com\") \n",
        "    return images,annotations"
      ],
      "execution_count": null,
      "outputs": []
    },
    {
      "cell_type": "markdown",
      "metadata": {
        "id": "PF4xPK8Run1v"
      },
      "source": [
        "#Recursively downloading images until image is found for a caption"
      ]
    },
    {
      "cell_type": "code",
      "metadata": {
        "id": "8Tj7z_p6t8YB"
      },
      "source": [
        "import glob\n",
        "import re\n",
        "temp=captions_df\n",
        "tot_images =[]\n",
        "tot_annotations=[]\n",
        "retry = 1\n",
        "saved_counter=0\n",
        "while saved_counter!=len(captions_df) and retry<20:\n",
        "    imgs_saved,annotations_saved = get_image_for_captions(temp)\n",
        "    tot_images=tot_images+imgs_saved\n",
        "    tot_annotations = tot_annotations+annotations_saved\n",
        "    saved_counter = len(tot_images)\n",
        "    retry = retry+1\n",
        "\n",
        "    imgs_file = glob.glob('./survey/images/*.jpeg')\n",
        "    saved = [re.findall(\"./survey/images/(.*)_\\d*.jpeg\", file)[0] for file in imgs_file]\n",
        "    unsaved = [{'id': caption['id'],'captions':caption['captions']} for (index,caption) in captions_df.iterrows() if str(caption['id']) not in saved]\n",
        "    print(len(unsaved),\"----iteration-----\",retry)\n",
        "    unsaved_captions_df = pd.DataFrame(unsaved)  \n",
        "    temp=unsaved_captions_df"
      ],
      "execution_count": null,
      "outputs": []
    },
    {
      "cell_type": "code",
      "metadata": {
        "id": "lJFFQCoYt8YF",
        "outputId": "c8c68c82-fb73-4ac0-feeb-1e1ae7163b36"
      },
      "source": [
        "len(tot_images)==len(tot_annotations), len(tot_images),len(tot_annotations)"
      ],
      "execution_count": null,
      "outputs": [
        {
          "output_type": "execute_result",
          "data": {
            "text/plain": [
              "(True, 450, 450)"
            ]
          },
          "metadata": {
            "tags": []
          },
          "execution_count": 12
        }
      ]
    },
    {
      "cell_type": "markdown",
      "metadata": {
        "id": "aV8ZCHvJuwH6"
      },
      "source": [
        "#Saving final JSON with images and annotation"
      ]
    },
    {
      "cell_type": "code",
      "metadata": {
        "id": "aIzKral2t8YI"
      },
      "source": [
        "json_final_200 = {\n",
        "    \"images\": tot_images,\n",
        "    \"annotations\":tot_annotations\n",
        "}"
      ],
      "execution_count": null,
      "outputs": []
    },
    {
      "cell_type": "code",
      "metadata": {
        "id": "MbNd9RXDt8YM"
      },
      "source": [
        "import json\n",
        "with open('./survey/captions_topN2020_all.json', 'w') as json_file:\n",
        "    json.dump(json_final_200, json_file)"
      ],
      "execution_count": null,
      "outputs": []
    },
    {
      "cell_type": "code",
      "metadata": {
        "id": "CCK8GDdlt8YQ"
      },
      "source": [
        ""
      ],
      "execution_count": null,
      "outputs": []
    },
    {
      "cell_type": "markdown",
      "metadata": {
        "id": "9AcjPRK-u3Jm"
      },
      "source": [
        "##After this images are manually selected and the following code is resumed after selection"
      ]
    },
    {
      "cell_type": "code",
      "metadata": {
        "id": "ZXgp55Hqt8YZ"
      },
      "source": [
        ""
      ],
      "execution_count": null,
      "outputs": []
    },
    {
      "cell_type": "code",
      "metadata": {
        "id": "X7FtCbdut8Yc"
      },
      "source": [
        "import json\n",
        "# opening the saved json file to preprocess it\n",
        "with open('./survey/captions_topN2020_all.json') as json_file:\n",
        "    data = json.load(json_file)"
      ],
      "execution_count": null,
      "outputs": []
    },
    {
      "cell_type": "markdown",
      "metadata": {
        "id": "hArva7OxvBX_"
      },
      "source": [
        "#Get all the selected image caption name to save only images that are selected"
      ]
    },
    {
      "cell_type": "code",
      "metadata": {
        "id": "FdkyC69it8Yf"
      },
      "source": [
        "import glob\n",
        "import re\n",
        "\n",
        "imgs_file = glob.glob('./survey/images/*.jpeg')\n",
        "selected_images = [re.findall(\"./survey/images/(.*).jpeg\", file)[0] for file in imgs_file]"
      ],
      "execution_count": null,
      "outputs": []
    },
    {
      "cell_type": "code",
      "metadata": {
        "id": "7g4-DWfKt8Yk",
        "outputId": "b29fa8f7-547b-449e-ecb9-79ac4deb37de"
      },
      "source": [
        "len(selected_images)"
      ],
      "execution_count": null,
      "outputs": [
        {
          "output_type": "execute_result",
          "data": {
            "text/plain": [
              "127"
            ]
          },
          "metadata": {
            "tags": []
          },
          "execution_count": 47
        }
      ]
    },
    {
      "cell_type": "code",
      "metadata": {
        "id": "EIquruD8t8Yo",
        "outputId": "b1026f9e-f993-4bc8-f12c-a76977811934"
      },
      "source": [
        "annotations = data['annotations']\n",
        "annotations[0]"
      ],
      "execution_count": null,
      "outputs": [
        {
          "output_type": "execute_result",
          "data": {
            "text/plain": [
              "{'caption': 'Annapurna range seen from Pokhara. ',\n",
              " 'id': '5001_0',\n",
              " 'image_id': '5001_0'}"
            ]
          },
          "metadata": {
            "tags": []
          },
          "execution_count": 48
        }
      ]
    },
    {
      "cell_type": "code",
      "metadata": {
        "id": "3LV3aWNRt8Yr",
        "outputId": "b147abd5-ae35-4f9c-a3a1-60cd22bae406"
      },
      "source": [
        "images = data['images']\n",
        "images[0]"
      ],
      "execution_count": null,
      "outputs": [
        {
          "output_type": "execute_result",
          "data": {
            "text/plain": [
              "{'file_name': '5001_0.jpeg', 'id': '5001_0'}"
            ]
          },
          "metadata": {
            "tags": []
          },
          "execution_count": 49
        }
      ]
    },
    {
      "cell_type": "code",
      "metadata": {
        "id": "lZXowj8dt8Yu"
      },
      "source": [
        "list_annotation = []\n",
        "for image_name in selected_images:\n",
        "    list_annotation.append([annotate for annotate in annotations if annotate['image_id']==image_name][0])"
      ],
      "execution_count": null,
      "outputs": []
    },
    {
      "cell_type": "code",
      "metadata": {
        "id": "_5N27KK_t8Yx"
      },
      "source": [
        "list_images = []\n",
        "for image_name in selected_images:\n",
        "    list_images.append([image for image in images if image['id']==image_name][0])"
      ],
      "execution_count": null,
      "outputs": []
    },
    {
      "cell_type": "code",
      "metadata": {
        "id": "k54bBhBct8Y0",
        "outputId": "3a571677-8bba-435c-b7a4-4ed1257734e4"
      },
      "source": [
        "len(list_annotation),len(list_images)"
      ],
      "execution_count": null,
      "outputs": [
        {
          "output_type": "execute_result",
          "data": {
            "text/plain": [
              "(127, 127)"
            ]
          },
          "metadata": {
            "tags": []
          },
          "execution_count": 54
        }
      ]
    },
    {
      "cell_type": "code",
      "metadata": {
        "id": "sBCnp1aut8Y3",
        "outputId": "b2756342-c000-4007-b7b0-41011504ff06"
      },
      "source": [
        "list_annotation[0],list_images[0]"
      ],
      "execution_count": null,
      "outputs": [
        {
          "output_type": "execute_result",
          "data": {
            "text/plain": [
              "({'caption': 'A girl in a white dress at a bus stand.',\n",
              "  'id': '5021_2',\n",
              "  'image_id': '5021_2'},\n",
              " {'file_name': '5021_2.jpeg', 'id': '5021_2'})"
            ]
          },
          "metadata": {
            "tags": []
          },
          "execution_count": 55
        }
      ]
    },
    {
      "cell_type": "markdown",
      "metadata": {
        "id": "YwYk9c5SvKR4"
      },
      "source": [
        "#Construct final selected images and annotatin in following JSON structure and save"
      ]
    },
    {
      "cell_type": "code",
      "metadata": {
        "id": "0X17yB3Dt8Y6"
      },
      "source": [
        "nest = {\n",
        "        \"images\":list_images,\n",
        "        \"annotations\":list_annotation\n",
        "    }"
      ],
      "execution_count": null,
      "outputs": []
    },
    {
      "cell_type": "code",
      "metadata": {
        "id": "Y2_2ltq0t8Y-"
      },
      "source": [
        "# Saving the file\n",
        "with open('./survey/captions_topN2020.json', 'w') as json_file:\n",
        "    json.dump(nest, json_file)"
      ],
      "execution_count": null,
      "outputs": []
    },
    {
      "cell_type": "code",
      "metadata": {
        "id": "SSKLpqKxt8ZB"
      },
      "source": [
        ""
      ],
      "execution_count": null,
      "outputs": []
    }
  ]
}